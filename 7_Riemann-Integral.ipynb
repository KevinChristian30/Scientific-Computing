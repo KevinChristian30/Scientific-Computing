{
 "cells": [
  {
   "cell_type": "markdown",
   "id": "e474ccab",
   "metadata": {},
   "source": [
    "### Rieman Integral"
   ]
  },
  {
   "cell_type": "markdown",
   "id": "28cee0ac",
   "metadata": {},
   "source": [
    "Riemann Integral adalah cara untuk menghitung luas daerah dibawah sebuah kurva"
   ]
  },
  {
   "cell_type": "markdown",
   "id": "4ba7180a",
   "metadata": {},
   "source": [
    "Rieman Integral akan membagi daerah menjadi n jumlah kotak, lalu menghitung luas masing-masing kotak"
   ]
  },
  {
   "cell_type": "code",
   "execution_count": 5,
   "id": "115aa354",
   "metadata": {},
   "outputs": [],
   "source": [
    "# 4 Jenis Rieman Integral:\n",
    "# 1. Left Riemann\n",
    "# 2. Right Riemann\n",
    "# 3. Midpoint Rule\n",
    "# 4. Trapezoid Rule"
   ]
  },
  {
   "cell_type": "markdown",
   "id": "b58e9522",
   "metadata": {},
   "source": [
    "### Steps"
   ]
  },
  {
   "cell_type": "markdown",
   "id": "c8fcfe35",
   "metadata": {},
   "source": [
    "#### 1. Tentukan function"
   ]
  },
  {
   "cell_type": "markdown",
   "id": "5837a661",
   "metadata": {},
   "source": [
    "#### 2. Tentukan jumlah kotak"
   ]
  },
  {
   "cell_type": "markdown",
   "id": "ba7da928",
   "metadata": {},
   "source": [
    "#### 3. Hitung lebar masing-masing kotak"
   ]
  },
  {
   "cell_type": "markdown",
   "id": "210bebaa",
   "metadata": {},
   "source": [
    "#### 4. Hitung panjang masing-masing kotak"
   ]
  },
  {
   "cell_type": "markdown",
   "id": "1a89c253",
   "metadata": {},
   "source": [
    "#### 5. Gunakan Rule yang ingin digunakan"
   ]
  },
  {
   "cell_type": "markdown",
   "id": "f7775b3c",
   "metadata": {},
   "source": [
    "### Code"
   ]
  },
  {
   "cell_type": "code",
   "execution_count": 10,
   "id": "679dec4b",
   "metadata": {},
   "outputs": [],
   "source": [
    "def f(x): return x**2 - 5"
   ]
  },
  {
   "cell_type": "code",
   "execution_count": 11,
   "id": "30fbadad",
   "metadata": {},
   "outputs": [],
   "source": [
    "import numpy as np"
   ]
  },
  {
   "cell_type": "code",
   "execution_count": 23,
   "id": "84cce0a4",
   "metadata": {},
   "outputs": [],
   "source": [
    "def riemann_integral(function, left, right, n):\n",
    "    width = (right - left) / (n - 1)\n",
    "    x = np.linspace(left, right, n)\n",
    "    y = function(x)\n",
    "\n",
    "    left_riemann = width * sum(y[:n - 1])\n",
    "    right_riemann = width * sum(y[1:])\n",
    "    \n",
    "    x_mid = (x[:n - 1] + x[1:]) / 2\n",
    "    y_mid = function(x_mid)\n",
    "    middle_riemann = width * sum(y_mid)\n",
    "    \n",
    "    trapezoid_riemann = width / 2 * (y[0] + 2 * sum(y[1:n - 1]) + y[n - 1])\n",
    "    \n",
    "    return left_riemann, right_riemann, middle_riemann, trapezoid_riemann    "
   ]
  },
  {
   "cell_type": "code",
   "execution_count": 30,
   "id": "d4ad81f4",
   "metadata": {},
   "outputs": [
    {
     "name": "stdout",
     "output_type": "stream",
     "text": [
      "Left:  16.40625\n",
      "Right:  32.15625\n",
      "Middle:  23.859375\n",
      "Trapezoid:  24.28125\n"
     ]
    }
   ],
   "source": [
    "left, right, middle, trapezoid = riemann_integral(f, 2, 5, 5)\n",
    "\n",
    "print('Left: ', str(left))\n",
    "print('Right: ', str(right))\n",
    "print('Middle: ', str(middle))\n",
    "print('Trapezoid: ', str(trapezoid))"
   ]
  }
 ],
 "metadata": {
  "kernelspec": {
   "display_name": "Python 3",
   "language": "python",
   "name": "python3"
  },
  "language_info": {
   "codemirror_mode": {
    "name": "ipython",
    "version": 3
   },
   "file_extension": ".py",
   "mimetype": "text/x-python",
   "name": "python",
   "nbconvert_exporter": "python",
   "pygments_lexer": "ipython3",
   "version": "3.8.8"
  }
 },
 "nbformat": 4,
 "nbformat_minor": 5
}
