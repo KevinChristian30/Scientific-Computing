{
 "cells": [
  {
   "cell_type": "markdown",
   "id": "56d6d729",
   "metadata": {},
   "source": [
    "## Least Square Regression"
   ]
  },
  {
   "cell_type": "markdown",
   "id": "56a53894",
   "metadata": {},
   "source": [
    "Least Square Regression bertujuan untuk mencari persamaan garis yang paling cocok dengan data, dimana jika diberikan banyak titik pada sebuah graph, kita dapat membuat garis dimana jarak antara setiap titik dengan garis itu minimum"
   ]
  },
  {
   "cell_type": "markdown",
   "id": "bf52af1b",
   "metadata": {},
   "source": [
    "### Manual Steps\n",
    "\n",
    "1. Untuk setiap titik (x, y), hituglah x^2 dan xy"
   ]
  },
  {
   "cell_type": "markdown",
   "id": "1017a360",
   "metadata": {},
   "source": [
    "2. Jumlahkan semua x, y, x^2, dan xy, menjadi Σx, Σy, Σx^2, dan Σxy"
   ]
  },
  {
   "cell_type": "markdown",
   "id": "d843dd9e",
   "metadata": {},
   "source": [
    "3. Hitunglah gradien dengan m = ( N Σ(xy) - ΣxΣy ) / ( N Σ(x^2) - Σ(x)^2 ), dimana N adalah jumlah titik yang ada"
   ]
  },
  {
   "cell_type": "markdown",
   "id": "a41398a6",
   "metadata": {},
   "source": [
    "4. Hitunglah intercept dengan b = ( Σy - mΣx ) / N"
   ]
  },
  {
   "cell_type": "markdown",
   "id": "7376ebd2",
   "metadata": {},
   "source": [
    "5. Buatlah persamaan garisnya dengan y = mx + b"
   ]
  },
  {
   "cell_type": "markdown",
   "id": "e1645420",
   "metadata": {},
   "source": [
    "### Matrix Steps"
   ]
  },
  {
   "cell_type": "markdown",
   "id": "10f2f6db",
   "metadata": {},
   "source": [
    "β = (Aᵀ A)⁻¹ AᵀY\n",
    "\n",
    "Dimana β[0] => gradient (m) dan β[1] => intercept (b)"
   ]
  },
  {
   "cell_type": "markdown",
   "id": "a46db8bb",
   "metadata": {},
   "source": [
    "### Code"
   ]
  },
  {
   "cell_type": "code",
   "execution_count": 5,
   "id": "b2f1133c",
   "metadata": {},
   "outputs": [],
   "source": [
    "X = [1, 2, 3, 4, 5, 6, 7, 8]\n",
    "Y = [2, 5, 1, 7, 9, 3, 6, 10]"
   ]
  },
  {
   "cell_type": "code",
   "execution_count": 22,
   "id": "be8b3e44",
   "metadata": {},
   "outputs": [],
   "source": [
    "import numpy as np\n",
    "import matplotlib.pyplot as plt"
   ]
  },
  {
   "cell_type": "code",
   "execution_count": 31,
   "id": "c5bff467",
   "metadata": {},
   "outputs": [],
   "source": [
    "def least_square_regression(x, y):\n",
    "    x = np.array(x)\n",
    "    y = np.array(y)\n",
    "    \n",
    "    A = np.vstack([x, np.ones(len(x))]).T\n",
    "    Y = y[:, np.newaxis]\n",
    "    \n",
    "    return np.dot(np.dot(np.linalg.inv(np.dot(A.T, A)), A.T), Y)"
   ]
  },
  {
   "cell_type": "code",
   "execution_count": 32,
   "id": "fb36565a",
   "metadata": {},
   "outputs": [
    {
     "data": {
      "image/png": "[encoded data removed]",
      "text/plain": [
       "<Figure size 432x288 with 1 Axes>"
      ]
     },
     "metadata": {
      "needs_background": "light"
     },
     "output_type": "display_data"
    }
   ],
   "source": [
    "beta = least_square_regression(X, Y)\n",
    "\n",
    "plt.plot(X, Y, 'ro')\n",
    "plt.plot(X, beta[0] * X + beta[1], 'b')\n",
    "plt.show()"
   ]
  }
 ],
 "metadata": {
  "kernelspec": {
   "display_name": "Python 3",
   "language": "python",
   "name": "python3"
  },
  "language_info": {
   "codemirror_mode": {
    "name": "ipython",
    "version": 3
   },
   "file_extension": ".py",
   "mimetype": "text/x-python",
   "name": "python",
   "nbconvert_exporter": "python",
   "pygments_lexer": "ipython3",
   "version": "3.8.8"
  }
 },
 "nbformat": 4,
 "nbformat_minor": 5
}
