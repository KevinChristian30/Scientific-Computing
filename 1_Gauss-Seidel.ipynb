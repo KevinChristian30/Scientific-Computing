{
 "cells": [
  {
   "cell_type": "markdown",
   "id": "fd5a9ba7",
   "metadata": {},
   "source": [
    "# Gauss-Seidel"
   ]
  },
  {
   "cell_type": "markdown",
   "id": "22636e6d",
   "metadata": {},
   "source": [
    "System of Linear Equation => Persamaan linear yang terdiri dari bebrapa variabel. Salah satu cara penyelesaian sistem persamaan linear adalah menggunakan matrix operation. Ada 2 jenis matrix method, yaitu:\n",
    "\n",
    "1. Direct Method (Method untuk menemukan solusi dengan jumlah oerasi yang sudah ditentukan).\n",
    "Contoh: - Gauss\n",
    "        - Gauss-Jordan\n",
    "2. Indirect Method\n",
    "Contoh: - Gauss-Seidel\n",
    "\n",
    "Methode untuk menemukan solusi pada sebuah linear equation dengan cara menebak solusi/varibel, dan terus mengimprove solusinya pada setiap iterasi\n",
    "\n",
    "Gauss-Seidel punya syarat:\n",
    "1. Diagonally Dominant:\n",
    "    Sebuah matrix dinyatakan diagonally dominant jika angka yang terletak pada matrix diagonalnya lebih besar pada dari jumlah row sisanya. Contoh:\n",
    "        10a + 4b + 5c = 8 (10 > 4 + 5)\n",
    "        a   + 6b +  c = 5 (6 > 1 + 1)\n",
    "        3a  + 6b + 6c = 10 (6 > 3 + 1)\n",
    "    "
   ]
  },
  {
   "cell_type": "markdown",
   "id": "1ed604f2",
   "metadata": {},
   "source": [
    "### Steps of Gauss-Seidel"
   ]
  },
  {
   "cell_type": "markdown",
   "id": "63af0d12",
   "metadata": {},
   "source": [
    "#### 1. Pindahkan ruas, dan sendirikan konstantnya"
   ]
  },
  {
   "cell_type": "code",
   "execution_count": null,
   "id": "63df3711",
   "metadata": {},
   "outputs": [],
   "source": [
    "10a + 4b + 5c = 8\n",
    "a   + 6b +  c = 5\n",
    "3a  + 6b + 6c = 10\n",
    "\n",
    "kita ubah menjadi\n",
    "a = (8 - 4b - 5c) / 10\n",
    "b = (5 - a - c) / 6\n",
    "c = (10 - 3a - 6b) / 6"
   ]
  },
  {
   "cell_type": "markdown",
   "id": "6fc7b396",
   "metadata": {},
   "source": [
    "#### 2. Inisialisasi variabel a, b, dan c dengan 0"
   ]
  },
  {
   "cell_type": "markdown",
   "id": "9e68429c",
   "metadata": {},
   "source": [
    "#### 3. Untuk setiap equation (a, b, dan c), prediksikan nilainya dengan a, b, dan c yang bernilai 0"
   ]
  },
  {
   "cell_type": "markdown",
   "id": "c0944cb2",
   "metadata": {},
   "source": [
    "#### 4. Lakukan step 4 hingga selisih antara 2 titik yang kita hitung menggunakan euclidean distance lebih kecil dari pada epsilon (batas minimum). Dengan itu, persamaan itu bisa dikatakan konvergen (nilai tebakannya mirip dengan nilai aslinya)"
   ]
  },
  {
   "cell_type": "markdown",
   "id": "f78dba64",
   "metadata": {},
   "source": [
    "### Code"
   ]
  },
  {
   "cell_type": "code",
   "execution_count": 3,
   "id": "ceaf726d",
   "metadata": {},
   "outputs": [],
   "source": [
    "import numpy as np"
   ]
  },
  {
   "cell_type": "code",
   "execution_count": 4,
   "id": "147ba83a",
   "metadata": {},
   "outputs": [],
   "source": [
    "X = [\n",
    "    [10, 4, 5],\n",
    "    [1, 6, 1],\n",
    "    [3, 1, 6]\n",
    "]\n",
    "\n",
    "Y = [\n",
    "    8,\n",
    "    5,\n",
    "    10\n",
    "]"
   ]
  },
  {
   "cell_type": "code",
   "execution_count": 5,
   "id": "ba01ed3f",
   "metadata": {},
   "outputs": [],
   "source": [
    "def is_diagonally_dominant(matrix):\n",
    "    matrix = np.array(matrix)\n",
    "    \n",
    "    # Get diagonal values\n",
    "    diags = np.diag(np.abs(matrix))\n",
    "    \n",
    "    # Get sum of other values in the row\n",
    "    np.fill_diagonal(matrix, 0)\n",
    "    arrayOfSum = np.sum(np.abs(matrix), axis = 1)\n",
    "    \n",
    "    return np.all(diags > arrayOfSum)"
   ]
  },
  {
   "cell_type": "code",
   "execution_count": 64,
   "id": "5bfd8e01",
   "metadata": {},
   "outputs": [],
   "source": [
    "def gauss_seidel(leftHandMatrix, rightHandMatrix, epsilon = 0.01, numberOfIterations = 15):\n",
    "    if not is_diagonally_dominant(leftHandMatrix): \n",
    "        print('Input Matrix is not Diagonally Dominant!')\n",
    "        return False\n",
    "    \n",
    "    leftHandMatrix = np.array(leftHandMatrix)\n",
    "    diags = np.diag(np.abs(leftHandMatrix))\n",
    "    np.fill_diagonal(leftHandMatrix, 0)\n",
    "    \n",
    "    rightHandMatrix = np.array(rightHandMatrix)\n",
    "    \n",
    "    #Move the equation to the right side (Step 1)\n",
    "    leftHandMatrix = -leftHandMatrix\n",
    "    \n",
    "    #Initialize guesses (Step 2)\n",
    "    then = np.zeros(leftHandMatrix[0].shape)\n",
    "    \n",
    "    # Iterate (Step 3)\n",
    "    for i in range(numberOfIterations):\n",
    "        now = np.array(then)\n",
    "        \n",
    "        for j, row in enumerate(leftHandMatrix):\n",
    "            now[j] = (rightHandMatrix[j] + np.dot(row, now)) / diags[j]\n",
    "            \n",
    "        # Find euclidean distance\n",
    "        dx = np.sqrt(np.dot(now - then, now - then))\n",
    "        \n",
    "        if dx < epsilon: return True\n",
    "        then = now\n",
    "        \n",
    "    return False"
   ]
  },
  {
   "cell_type": "code",
   "execution_count": null,
   "id": "278e581d",
   "metadata": {},
   "outputs": [],
   "source": [
    "if gauss_seidel(X, Y): print('Convergent')\n",
    "else: print('Not Convergent')"
   ]
  }
 ],
 "metadata": {
  "kernelspec": {
   "display_name": "Python 3",
   "language": "python",
   "name": "python3"
  },
  "language_info": {
   "codemirror_mode": {
    "name": "ipython",
    "version": 3
   },
   "file_extension": ".py",
   "mimetype": "text/x-python",
   "name": "python",
   "nbconvert_exporter": "python",
   "pygments_lexer": "ipython3",
   "version": "3.8.8"
  }
 },
 "nbformat": 4,
 "nbformat_minor": 5
}
