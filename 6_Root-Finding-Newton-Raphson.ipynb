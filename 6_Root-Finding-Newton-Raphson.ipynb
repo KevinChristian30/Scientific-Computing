{
 "cells": [
  {
   "cell_type": "markdown",
   "id": "ed9767d0",
   "metadata": {},
   "source": [
    "### Root Finding - Newton Raphson"
   ]
  },
  {
   "cell_type": "markdown",
   "id": "4a701313",
   "metadata": {},
   "source": [
    "Newton Raphson akan mencari root dari garus singgung secara terus menerus"
   ]
  },
  {
   "cell_type": "markdown",
   "id": "779970f3",
   "metadata": {},
   "source": [
    "#### Equation : x1 = x0 - f(x)/g(x)"
   ]
  },
  {
   "cell_type": "code",
   "execution_count": 7,
   "id": "e3a5f652",
   "metadata": {
    "scrolled": false
   },
   "outputs": [],
   "source": [
    "# x1   = Root dari garis singgung\n",
    "# x0   = Titik dimana garis singgungnya akan bersinggungan\n",
    "# f(x) = Nilai functionnya\n",
    "# g(x) = Turunan f(x)"
   ]
  },
  {
   "cell_type": "markdown",
   "id": "038b69be",
   "metadata": {},
   "source": [
    "#### Steps"
   ]
  },
  {
   "cell_type": "markdown",
   "id": "82954d94",
   "metadata": {},
   "source": [
    "#### 1. Tentukan x0"
   ]
  },
  {
   "cell_type": "markdown",
   "id": "d0fbde7c",
   "metadata": {},
   "source": [
    "#### 2. Cari root dari garis singgung di x0"
   ]
  },
  {
   "cell_type": "markdown",
   "id": "4352a6cb",
   "metadata": {},
   "source": [
    "#### 3. Cek apakah x1 merupakan root"
   ]
  },
  {
   "cell_type": "markdown",
   "id": "f3d85922",
   "metadata": {},
   "source": [
    "#### 4. Jika iya root sudah ditemukan, jika tidak update x0 menjadi x1"
   ]
  },
  {
   "cell_type": "markdown",
   "id": "d2d5e749",
   "metadata": {},
   "source": [
    "### Code"
   ]
  },
  {
   "cell_type": "code",
   "execution_count": 42,
   "id": "0b0d6107",
   "metadata": {},
   "outputs": [],
   "source": [
    "def f(x): return x**2 - 5\n",
    "def g(x): return 2*x"
   ]
  },
  {
   "cell_type": "code",
   "execution_count": 43,
   "id": "b5d59698",
   "metadata": {},
   "outputs": [],
   "source": [
    "import numpy as np"
   ]
  },
  {
   "cell_type": "code",
   "execution_count": 44,
   "id": "e6586119",
   "metadata": {},
   "outputs": [],
   "source": [
    "def newton_raphson(f, g, x0, tolerance = 0.1):\n",
    "    x1 = x0 - f(x0)/g(x0)\n",
    "    \n",
    "    return x1 if np.abs(f(x1)) < tolerance else newton_raphson(f, g, x1)"
   ]
  },
  {
   "cell_type": "code",
   "execution_count": 47,
   "id": "6c8f2926",
   "metadata": {},
   "outputs": [
    {
     "name": "stdout",
     "output_type": "stream",
     "text": [
      "2.25\n"
     ]
    }
   ],
   "source": [
    "print(newton_raphson(f, g, 2))"
   ]
  }
 ],
 "metadata": {
  "kernelspec": {
   "display_name": "Python 3",
   "language": "python",
   "name": "python3"
  },
  "language_info": {
   "codemirror_mode": {
    "name": "ipython",
    "version": 3
   },
   "file_extension": ".py",
   "mimetype": "text/x-python",
   "name": "python",
   "nbconvert_exporter": "python",
   "pygments_lexer": "ipython3",
   "version": "3.8.8"
  }
 },
 "nbformat": 4,
 "nbformat_minor": 5
}
