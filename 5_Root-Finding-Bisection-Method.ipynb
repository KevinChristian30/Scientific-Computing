{
 "cells": [
  {
   "cell_type": "markdown",
   "id": "98e64ab5",
   "metadata": {},
   "source": [
    "### Root Finding - Bisection Method"
   ]
  },
  {
   "cell_type": "markdown",
   "id": "56f7ae98",
   "metadata": {},
   "source": [
    "Root adalah sebuah titik di grafik dimana nilai y = 0"
   ]
  },
  {
   "cell_type": "markdown",
   "id": "479bf1d3",
   "metadata": {},
   "source": [
    "Konsep dari Bisection Method adalah, jika ada 2 titik A dan B, dimana salah satu positif dan yang satunya lagi negatif, akan ada titik C, dimana nilainya 0"
   ]
  },
  {
   "cell_type": "markdown",
   "id": "ca5e2959",
   "metadata": {},
   "source": [
    "### Steps"
   ]
  },
  {
   "cell_type": "markdown",
   "id": "9d7a53ea",
   "metadata": {},
   "source": [
    "#### 1. Tentukan A dan B"
   ]
  },
  {
   "cell_type": "markdown",
   "id": "043c256b",
   "metadata": {},
   "source": [
    "#### 2. Cari C"
   ]
  },
  {
   "cell_type": "markdown",
   "id": "32f60aaf",
   "metadata": {},
   "source": [
    "#### 3. Cek apakah C dekat dengan 0"
   ]
  },
  {
   "cell_type": "markdown",
   "id": "88ea2246",
   "metadata": {},
   "source": [
    "#### 4. Jika iya selesai, jika tidak update nilai A dan B (Divide and Conquer)"
   ]
  },
  {
   "cell_type": "markdown",
   "id": "6904857d",
   "metadata": {},
   "source": [
    "### Code"
   ]
  },
  {
   "cell_type": "code",
   "execution_count": 57,
   "id": "3d54de6a",
   "metadata": {},
   "outputs": [],
   "source": [
    "def f(x): return x**2 - 5"
   ]
  },
  {
   "cell_type": "code",
   "execution_count": 58,
   "id": "49e8f786",
   "metadata": {},
   "outputs": [],
   "source": [
    "import numpy as np"
   ]
  },
  {
   "cell_type": "code",
   "execution_count": 59,
   "id": "2862d954",
   "metadata": {},
   "outputs": [],
   "source": [
    "def bisection_root_finding(function, A, B, tolerance = 0.1):\n",
    "    if np.sign(function(A)) == np.sign(function(B)):\n",
    "        print('Invalid Coordinates')\n",
    "        return False\n",
    "    \n",
    "    C = (A + B) / 2\n",
    "    \n",
    "    if np.abs(function(C)) < tolerance: \n",
    "        return C\n",
    "    elif np.sign(function(C)) == np.sign(function(A)): \n",
    "        return bisection_root_finding(function, C, B)\n",
    "    elif np.sign(function(C)) == np.sign(function(B)): \n",
    "        return bisection_root_finding(function, A, C)"
   ]
  },
  {
   "cell_type": "code",
   "execution_count": 60,
   "id": "257607d7",
   "metadata": {},
   "outputs": [
    {
     "name": "stdout",
     "output_type": "stream",
     "text": [
      "2.234375\n"
     ]
    }
   ],
   "source": [
    "print(bisection_root_finding(f, 2, 5))"
   ]
  }
 ],
 "metadata": {
  "kernelspec": {
   "display_name": "Python 3",
   "language": "python",
   "name": "python3"
  },
  "language_info": {
   "codemirror_mode": {
    "name": "ipython",
    "version": 3
   },
   "file_extension": ".py",
   "mimetype": "text/x-python",
   "name": "python",
   "nbconvert_exporter": "python",
   "pygments_lexer": "ipython3",
   "version": "3.8.8"
  }
 },
 "nbformat": 4,
 "nbformat_minor": 5
}
